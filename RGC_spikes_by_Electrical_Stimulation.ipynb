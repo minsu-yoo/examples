{
  "nbformat": 4,
  "nbformat_minor": 0,
  "metadata": {
    "colab": {
      "name": "RGC_spikes_by_Electrical_Stimulation.ipynb",
      "provenance": [],
      "collapsed_sections": [],
      "authorship_tag": "ABX9TyMNrpZGpgnL37QBXJdRFFUJ",
      "include_colab_link": true
    },
    "kernelspec": {
      "name": "python3",
      "display_name": "Python 3"
    },
    "language_info": {
      "name": "python"
    }
  },
  "cells": [
    {
      "cell_type": "markdown",
      "metadata": {
        "id": "view-in-github",
        "colab_type": "text"
      },
      "source": [
        "<a href=\"https://colab.research.google.com/github/minsu-yoo/examples/blob/master/RGC_spikes_by_Electrical_Stimulation.ipynb\" target=\"_parent\"><img src=\"https://colab.research.google.com/assets/colab-badge.svg\" alt=\"Open In Colab\"/></a>"
      ]
    },
    {
      "cell_type": "markdown",
      "metadata": {
        "id": "iH6VOKk8xmsr"
      },
      "source": [
        "Google drive 에 data 파일이 있을 경우 Path 를 설정해줍니다. "
      ]
    },
    {
      "cell_type": "code",
      "metadata": {
        "colab": {
          "base_uri": "https://localhost:8080/"
        },
        "id": "801RQXsGxXht",
        "outputId": "882b13cf-ca6f-495c-e634-58c7876d74d6"
      },
      "source": [
        "from google.colab import drive\n",
        "drive.mount('/content/drive')  \n",
        "\n",
        "!ls \"/content/drive/My Drive\"  \n",
        "!cp \"/content/drive/My Drive/mtSpikeTimes.mat\" \"mtSpikeTimes.mat\"  #copy 를 합니다. \n",
        "!cp \"/content/drive/My Drive/Data.mat\" \"Data.mat\"  #copy 를 합니다. \n",
        "!cp \"/content/drive/My Drive/ChaData.mat\" \"ChaData.mat\"  #copy 를 합니다. \n",
        "!cp \"/content/drive/My Drive/20200707_WT3_stim_info.xlsx\" \"20200707_WT3_stim_info.xlsx\"  #copy 를 합니다. \n",
        "\n",
        "\n",
        "\n",
        "from scipy.io import loadmat  #MATLAB file 을 불러올 수 있게 library 를 import 한다. \n",
        "mtSpikes = loadmat('mtSpikeTimes.mat')\n",
        "import numpy\n"
      ],
      "execution_count": 18,
      "outputs": [
        {
          "output_type": "stream",
          "text": [
            "Drive already mounted at /content/drive; to attempt to forcibly remount, call drive.mount(\"/content/drive\", force_remount=True).\n",
            " 20200707_WT3_stim_info.xlsx  'Colab Notebooks'   mtSpikeTimes.mat\n",
            " ChaData.mat\t\t       Data.mat\n"
          ],
          "name": "stdout"
        }
      ]
    },
    {
      "cell_type": "code",
      "metadata": {
        "id": "8uRkXj0Pxxkg"
      },
      "source": [
        "import numpy\n",
        "from scipy.io import loadmat  #MATLAB file 을 불러올 수 있게 library 를 import 한다. \n",
        "import matplotlib.pyplot as plt\n",
        "import seaborn as sns  #more beautiful tool for drawing \n",
        "\n",
        "raw_rgc_spikes = loadmat('ChaData.mat')"
      ],
      "execution_count": 19,
      "outputs": []
    },
    {
      "cell_type": "code",
      "metadata": {
        "id": "xkB-33jOyKDo"
      },
      "source": [
        "# Readout Excel file of Stimulation information\n",
        "import pandas as pd\n",
        "\n",
        "stim_info = pd.read_excel('20200707_WT3_stim_info.xlsx', index_col=0)  \n",
        "np_stim = stim_info.to_numpy()  #panda data type을 numpy 형태로 불러냅니다. \n",
        "\n",
        "#put the information as matrix form"
      ],
      "execution_count": 20,
      "outputs": []
    },
    {
      "cell_type": "markdown",
      "metadata": {
        "id": "sQSOK7Q_yjeg"
      },
      "source": [
        "우선은 가장 센 stimulus를 대상으로 분석하였습니다. "
      ]
    },
    {
      "cell_type": "code",
      "metadata": {
        "id": "Ay4HYiVJyMby"
      },
      "source": [
        "light_start_index = 4 #light stimulation \n",
        "\n",
        "es_index = 18 #Electrical stimulation starting index\n",
        "\n",
        "\n",
        "ls50_column = 0\n",
        "ls100_column = 4\n",
        "\n",
        "\n",
        "ls100_stim = np_stim[light_start_index:light_start_index+10,4]\n",
        "es_stim = np_stim[es_index:es_index+20,4]"
      ],
      "execution_count": 21,
      "outputs": []
    },
    {
      "cell_type": "markdown",
      "metadata": {
        "id": "IXQMEGjHypNt"
      },
      "source": [
        "Channel 의 이름과 Spike 정보들을 연결시켜서 dictionary 형태로 담아줍니다. "
      ]
    },
    {
      "cell_type": "code",
      "metadata": {
        "id": "JljVC0zeynP4"
      },
      "source": [
        "ch_label = []  \n",
        "ch_spikes = []\n",
        "\n",
        "for key, value in raw_rgc_spikes.items():\n",
        "    ch_label.append(key)\n",
        "    ch_spikes.append(value)\n",
        "    \n",
        "    \n",
        "spike_dict = {}\n",
        "total_channel_n = len(raw_rgc_spikes.keys())\n",
        "\n",
        "for i in range(4,total_channel_n):\n",
        "    chN = int(ch_label[i][3:5])  #Channel number ex) '12'\n",
        "    chN_string = ch_label[i][3:6]\n",
        "    spike_dict[chN_string] = ch_spikes[i]"
      ],
      "execution_count": 22,
      "outputs": []
    },
    {
      "cell_type": "code",
      "metadata": {
        "id": "bRGRd62xyrIM"
      },
      "source": [
        "spike_labels = list(spike_dict.keys())"
      ],
      "execution_count": 23,
      "outputs": []
    },
    {
      "cell_type": "code",
      "metadata": {
        "colab": {
          "base_uri": "https://localhost:8080/"
        },
        "id": "iGKSA9igytHA",
        "outputId": "4c4b354b-5967-45e8-8707-d7b96ea0d91c"
      },
      "source": [
        "print(spike_labels[0])  # 순서대로 spike 들을 볼 수 있다.\n",
        "spikes = spike_dict[spike_labels[0]]\n",
        "\n"
      ],
      "execution_count": 24,
      "outputs": [
        {
          "output_type": "stream",
          "text": [
            "12a\n"
          ],
          "name": "stdout"
        }
      ]
    },
    {
      "cell_type": "code",
      "metadata": {
        "colab": {
          "base_uri": "https://localhost:8080/",
          "height": 290
        },
        "id": "Z7UbdrR4yujm",
        "outputId": "cc7bd0e6-2a13-4f0b-f9b7-6d8627c372a7"
      },
      "source": [
        "spikes_by_trial = []\n",
        "trial_spikes = []\n",
        "\n",
        "\n",
        "stim_duration = es_stim[1] - es_stim[0]\n",
        "for stim_index in range(len(es_stim)):\n",
        "    spikes_by_trial.append([i for i in spikes if (es_stim[stim_index] <i < es_stim[stim_index] + stim_duration)])\n",
        "    trial_spikes.append( [i - es_stim[stim_index] for i in spikes if (es_stim[stim_index] <i < es_stim[stim_index] + stim_duration)]) \n",
        "    plt.vlines(trial_spikes[stim_index], stim_index-.5 , stim_index+.5)\n",
        "    \n",
        "\n",
        "\n",
        "plt.xlabel('time(s)')\n",
        "plt.ylabel('Trial')\n",
        "\n",
        "plt.rcParams.update({'font.size': 15})\n",
        "plt.rc('xtick', labelsize=15) \n",
        "plt.rc('ytick', labelsize=15) "
      ],
      "execution_count": 25,
      "outputs": [
        {
          "output_type": "display_data",
          "data": {
            "image/png": "[encoded data removed]",
            "text/plain": [
              "<Figure size 432x288 with 1 Axes>"
            ]
          },
          "metadata": {
            "tags": [],
            "needs_background": "light"
          }
        }
      ]
    },
    {
      "cell_type": "code",
      "metadata": {
        "colab": {
          "base_uri": "https://localhost:8080/",
          "height": 289
        },
        "id": "4uMpvV51y1p3",
        "outputId": "ac4e34ea-006a-451a-b5b1-f672cb70f327"
      },
      "source": [
        "flat_list = [item for sublist in trial_spikes for item in sublist]\n",
        "\n",
        "Spikes_in_oneLine = numpy.asarray(flat_list)\n",
        "\n",
        "ax = sns.histplot(Spikes_in_oneLine, bins = 10,legend = None)\n",
        "ax.set(xlabel='time(s)', ylabel='Number of Spikes')\n",
        "plt.show()"
      ],
      "execution_count": 26,
      "outputs": [
        {
          "output_type": "display_data",
          "data": {
            "image/png": "[encoded data removed]",
            "text/plain": [
              "<Figure size 432x288 with 1 Axes>"
            ]
          },
          "metadata": {
            "tags": [],
            "needs_background": "light"
          }
        }
      ]
    },
    {
      "cell_type": "code",
      "metadata": {
        "id": "TTm1yZZSy4Hu"
      },
      "source": [
        "def show_me_the_spikes(cell_id):\n",
        "    spikes = spike_dict[spike_labels[cell_id]]\n",
        "    ch_id = spike_labels[cell_id] #string in channel ID\n",
        "    spikes_by_trial = []\n",
        "    trial_spikes = []\n",
        "\n",
        "\n",
        "    stim_duration = es_stim[1] - es_stim[0]\n",
        "    for stim_index in range(len(es_stim)):\n",
        "        spikes_by_trial.append([i for i in spikes if (es_stim[stim_index] <i < es_stim[stim_index] + stim_duration)])\n",
        "        trial_spikes.append( [i - es_stim[stim_index] for i in spikes if (es_stim[stim_index] <i < es_stim[stim_index] + stim_duration)]) \n",
        "        plt.vlines(trial_spikes[stim_index], stim_index-.5 , stim_index+.5)\n",
        "\n",
        "\n",
        "\n",
        "    plt.xlabel('time(s)')\n",
        "    plt.ylabel('Trial')\n",
        "    plt.title(ch_id)\n",
        "\n",
        "    plt.rcParams.update({'font.size': 15})\n",
        "    plt.rc('xtick', labelsize=15) \n",
        "    plt.rc('ytick', labelsize=15) \n",
        "    \n",
        "    flat_list = [item for sublist in trial_spikes for item in sublist]\n",
        "\n",
        "    Spikes_in_oneLine = numpy.asarray(flat_list)\n",
        "    plt.figure()\n",
        "\n",
        "    ax = sns.histplot(Spikes_in_oneLine, bins = 10,legend = None)\n",
        "    ax.set(xlabel='time(s)', ylabel='Number of Spikes')\n",
        "    plt.show()\n",
        "\n",
        "\n",
        "\n",
        "    \n",
        "    \n",
        "    \n",
        "    "
      ],
      "execution_count": 27,
      "outputs": []
    },
    {
      "cell_type": "code",
      "metadata": {
        "colab": {
          "base_uri": "https://localhost:8080/",
          "height": 581
        },
        "id": "Al8TOfECy6BM",
        "outputId": "5bc3bed7-7f03-4039-86ba-b08b5cb71a26"
      },
      "source": [
        "show_me_the_spikes(101)  #101 번째 neuron의 반응을 봅니다. "
      ],
      "execution_count": 28,
      "outputs": [
        {
          "output_type": "display_data",
          "data": {
            "image/png": "[encoded data removed]",
            "text/plain": [
              "<Figure size 432x288 with 1 Axes>"
            ]
          },
          "metadata": {
            "tags": [],
            "needs_background": "light"
          }
        },
        {
          "output_type": "display_data",
          "data": {
            "image/png": "[encoded data removed]",
            "text/plain": [
              "<Figure size 432x288 with 1 Axes>"
            ]
          },
          "metadata": {
            "tags": [],
            "needs_background": "light"
          }
        }
      ]
    },
    {
      "cell_type": "code",
      "metadata": {
        "id": "NEdFkjAoy8Wl"
      },
      "source": [
        ""
      ],
      "execution_count": 28,
      "outputs": []
    },
    {
      "cell_type": "markdown",
      "metadata": {
        "id": "HutA3TiEJbFK"
      },
      "source": [
        "## Evoked Spikes numbers histogram \n",
        "\n"
      ]
    },
    {
      "cell_type": "code",
      "metadata": {
        "id": "l1v727MzJeee"
      },
      "source": [
        "import numpy \n",
        "from scipy.io import loadmat  #MATLAB file 을 불러올 수 있게 library 를 import 한다. \n",
        "import matplotlib.pyplot as plt\n",
        "import seaborn as sns  #more beautiful tool for drawing \n",
        "\n",
        "raw_rgc_spikes = loadmat('ChaData.mat')  #load matlab \n",
        "\n",
        "# Readout Excel file of Stimulation information\n",
        "import pandas as pd\n",
        "\n",
        "stim_info = pd.read_excel('20200707_WT3_stim_info.xlsx', index_col=0)  \n",
        "\n",
        "np_stim = stim_info.to_numpy()  #panda data type을 numpy 형태로 \n",
        "\n",
        "\n",
        "df = pd.DataFrame(data =np_stim )\n",
        "\n",
        "\n"
      ],
      "execution_count": 29,
      "outputs": []
    },
    {
      "cell_type": "code",
      "metadata": {
        "id": "CZIGCVsUJgct"
      },
      "source": [
        "light_start_index = 4 #light stimulation \n",
        "\n",
        "es_index = 18 #Electrical stimulation starting index\n",
        "\n",
        "\n",
        "ls50_column = 0\n",
        "ls100_column = 4\n",
        "\n",
        "\n",
        "ls100_stim = np_stim[light_start_index:light_start_index+10,4]\n",
        "es_stim = np_stim[es_index:es_index+20,4]"
      ],
      "execution_count": 30,
      "outputs": []
    },
    {
      "cell_type": "code",
      "metadata": {
        "id": "R9gP3zSUJpGC"
      },
      "source": [
        "ch_label = []  \n",
        "ch_spikes = []\n",
        "\n",
        "for key, value in raw_rgc_spikes.items():\n",
        "    ch_label.append(key)\n",
        "    ch_spikes.append(value)\n",
        "    \n",
        "    \n",
        "spike_dict = {}  #dictionary initialization\n",
        "total_channel_n = len(raw_rgc_spikes.keys())\n",
        "\n",
        "for i in range(4,total_channel_n):\n",
        "    chN = int(ch_label[i][3:5])  #Channel number ex) '12'\n",
        "    chN_string = ch_label[i][3:6]\n",
        "    spike_dict[chN_string] = ch_spikes[i]\n",
        "    \n",
        "\n",
        "    \n",
        "spike_labels = list(spike_dict.keys())"
      ],
      "execution_count": 31,
      "outputs": []
    },
    {
      "cell_type": "code",
      "metadata": {
        "colab": {
          "base_uri": "https://localhost:8080/",
          "height": 290
        },
        "id": "vu9F-lmwJqWB",
        "outputId": "84cc35b1-444d-444c-a91d-50b7bdf2d7d8"
      },
      "source": [
        "spikes_by_trial = []\n",
        "trial_spikes = []\n",
        "\n",
        "\n",
        "stim_duration = es_stim[1] - es_stim[0]\n",
        "for stim_index in range(len(es_stim)):\n",
        "    spikes_by_trial.append([i for i in spikes if (es_stim[stim_index] <i < es_stim[stim_index] + stim_duration)])\n",
        "    trial_spikes.append( [i - es_stim[stim_index] for i in spikes if (es_stim[stim_index] \n",
        "                                                                      <i < es_stim[stim_index] + stim_duration)]) \n",
        "    \n",
        "    \n",
        "    plt.vlines(trial_spikes[stim_index], stim_index-.5 , stim_index+.5)\n",
        "    \n",
        "\n",
        "\n",
        "plt.xlabel('time(s)')\n",
        "plt.ylabel('Trial')\n",
        "\n",
        "plt.rcParams.update({'font.size': 15})\n",
        "plt.rc('xtick', labelsize=15) \n",
        "plt.rc('ytick', labelsize=15) "
      ],
      "execution_count": 32,
      "outputs": [
        {
          "output_type": "display_data",
          "data": {
            "image/png": "[encoded data removed]",
            "text/plain": [
              "<Figure size 432x288 with 1 Axes>"
            ]
          },
          "metadata": {
            "tags": [],
            "needs_background": "light"
          }
        }
      ]
    },
    {
      "cell_type": "code",
      "metadata": {
        "id": "ZZ_GduQuJzpi"
      },
      "source": [
        "num_spikes = numpy.zeros((20,1))\n",
        "\n"
      ],
      "execution_count": 34,
      "outputs": []
    },
    {
      "cell_type": "code",
      "metadata": {
        "id": "lmEZcS62Jsxl"
      },
      "source": [
        "\n",
        "for i in range(len(trial_spikes)):\n",
        "    \n",
        "    num_spikes[i] = len(trial_spikes[i])"
      ],
      "execution_count": 35,
      "outputs": []
    },
    {
      "cell_type": "code",
      "metadata": {
        "colab": {
          "base_uri": "https://localhost:8080/",
          "height": 270
        },
        "id": "8UQFWmdqJwaf",
        "outputId": "230e5771-8388-4af1-ff45-0d670204c580"
      },
      "source": [
        "ax = sns.histplot(num_spikes, legend = None)\n",
        "\n"
      ],
      "execution_count": 36,
      "outputs": [
        {
          "output_type": "display_data",
          "data": {
            "image/png": "[encoded data removed]",
            "text/plain": [
              "<Figure size 432x288 with 1 Axes>"
            ]
          },
          "metadata": {
            "tags": [],
            "needs_background": "light"
          }
        }
      ]
    },
    {
      "cell_type": "code",
      "metadata": {
        "id": "hb_qdrmIJ2Ew"
      },
      "source": [
        "def spike_num(cell_id):\n",
        "    spikes_by_trial = []\n",
        "    trial_spikes = []\n",
        "    spikes = spike_dict[spike_labels[cell_id]]\n",
        "    stim_duration = es_stim[1] - es_stim[0]\n",
        "    for stim_index in range(len(es_stim)):\n",
        "        spikes_by_trial.append([i for i in spikes if (es_stim[stim_index] <i < es_stim[stim_index] + stim_duration)])\n",
        "        trial_spikes.append( [i - es_stim[stim_index] \n",
        "                              for i in spikes if \n",
        "                              (es_stim[stim_index] <i < es_stim[stim_index] + stim_duration)]) \n",
        "\n",
        "\n",
        "    num_spikes = numpy.zeros((len(trial_spikes),1))\n",
        "\n",
        "    for i in range(len(trial_spikes)):\n",
        "\n",
        "        num_spikes[i] = len(trial_spikes[i])\n",
        "        \n",
        "    return num_spikes"
      ],
      "execution_count": 37,
      "outputs": []
    },
    {
      "cell_type": "code",
      "metadata": {
        "id": "qozqqJBKJ50t"
      },
      "source": [
        "num_spikes = numpy.zeros((20,1))\n",
        "\n",
        "\n",
        "\n",
        "for i in range(len(trial_spikes)):\n",
        "    \n",
        "    num_spikes[i] = len(trial_spikes[i])"
      ],
      "execution_count": 38,
      "outputs": []
    },
    {
      "cell_type": "code",
      "metadata": {
        "id": "4PAnBkt5J85k"
      },
      "source": [
        "n_spTrain = len(spike_dict)"
      ],
      "execution_count": 39,
      "outputs": []
    },
    {
      "cell_type": "code",
      "metadata": {
        "colab": {
          "base_uri": "https://localhost:8080/"
        },
        "id": "NubEgNNuJ_bT",
        "outputId": "75952f03-c585-46d4-ab69-2e4843388d86"
      },
      "source": [
        "spike_mat = spike_num(0)              \n",
        "for i in range(1,n_spTrain):\n",
        "    spike_mat = numpy.concatenate((spike_mat, spike_num(i) ), axis=1)\n",
        "    print (i)"
      ],
      "execution_count": 41,
      "outputs": [
        {
          "output_type": "stream",
          "text": [
            "1\n",
            "2\n",
            "3\n",
            "4\n",
            "5\n",
            "6\n",
            "7\n",
            "8\n",
            "9\n",
            "10\n",
            "11\n",
            "12\n",
            "13\n",
            "14\n",
            "15\n",
            "16\n",
            "17\n",
            "18\n",
            "19\n",
            "20\n",
            "21\n",
            "22\n",
            "23\n",
            "24\n",
            "25\n",
            "26\n",
            "27\n",
            "28\n",
            "29\n",
            "30\n",
            "31\n",
            "32\n",
            "33\n",
            "34\n",
            "35\n",
            "36\n",
            "37\n",
            "38\n",
            "39\n",
            "40\n",
            "41\n",
            "42\n",
            "43\n",
            "44\n",
            "45\n",
            "46\n",
            "47\n",
            "48\n",
            "49\n",
            "50\n",
            "51\n",
            "52\n",
            "53\n",
            "54\n",
            "55\n",
            "56\n",
            "57\n",
            "58\n",
            "59\n",
            "60\n",
            "61\n",
            "62\n",
            "63\n",
            "64\n",
            "65\n",
            "66\n",
            "67\n",
            "68\n",
            "69\n",
            "70\n",
            "71\n",
            "72\n",
            "73\n",
            "74\n",
            "75\n",
            "76\n",
            "77\n",
            "78\n",
            "79\n",
            "80\n",
            "81\n",
            "82\n",
            "83\n",
            "84\n",
            "85\n",
            "86\n",
            "87\n",
            "88\n",
            "89\n",
            "90\n",
            "91\n",
            "92\n",
            "93\n",
            "94\n",
            "95\n",
            "96\n",
            "97\n",
            "98\n",
            "99\n",
            "100\n",
            "101\n",
            "102\n",
            "103\n",
            "104\n",
            "105\n",
            "106\n",
            "107\n",
            "108\n",
            "109\n",
            "110\n",
            "111\n",
            "112\n",
            "113\n",
            "114\n",
            "115\n",
            "116\n",
            "117\n",
            "118\n",
            "119\n",
            "120\n",
            "121\n",
            "122\n",
            "123\n",
            "124\n",
            "125\n",
            "126\n",
            "127\n"
          ],
          "name": "stdout"
        }
      ]
    },
    {
      "cell_type": "code",
      "metadata": {
        "id": "u8LlqbQ6KAzu"
      },
      "source": [
        "import pickle\n",
        "\n",
        "with open('spikeNum.pickle', 'wb') as f:\n",
        "    pickle.dump(spike_mat, f)"
      ],
      "execution_count": 42,
      "outputs": []
    },
    {
      "cell_type": "code",
      "metadata": {
        "id": "mXdxpHHjKiww"
      },
      "source": [
        ""
      ],
      "execution_count": null,
      "outputs": []
    }
  ]
}